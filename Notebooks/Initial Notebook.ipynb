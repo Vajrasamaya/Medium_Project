{
 "cells": [
  {
   "cell_type": "code",
   "execution_count": null,
   "metadata": {},
   "outputs": [],
   "source": []
  },
  {
   "cell_type": "code",
   "execution_count": 1,
   "metadata": {},
   "outputs": [],
   "source": [
    "# Array and Dataframe processing:\n",
    "import pandas as pd\n",
    "import numpy as np\n",
    "\n",
    "## importing 'mysql.connector' \n",
    "import mysql.connector \n",
    "import config"
   ]
  },
  {
   "cell_type": "code",
   "execution_count": 2,
   "metadata": {},
   "outputs": [
    {
     "data": {
      "text/html": [
       "<div>\n",
       "<style scoped>\n",
       "    .dataframe tbody tr th:only-of-type {\n",
       "        vertical-align: middle;\n",
       "    }\n",
       "\n",
       "    .dataframe tbody tr th {\n",
       "        vertical-align: top;\n",
       "    }\n",
       "\n",
       "    .dataframe thead th {\n",
       "        text-align: right;\n",
       "    }\n",
       "</style>\n",
       "<table border=\"1\" class=\"dataframe\">\n",
       "  <thead>\n",
       "    <tr style=\"text-align: right;\">\n",
       "      <th></th>\n",
       "      <th>order_date</th>\n",
       "      <th>order_id</th>\n",
       "      <th>customer_id</th>\n",
       "      <th>source_medium</th>\n",
       "      <th>net_revenue</th>\n",
       "      <th>discount_codes</th>\n",
       "      <th>payment_gateway</th>\n",
       "      <th>order_type</th>\n",
       "    </tr>\n",
       "  </thead>\n",
       "  <tbody>\n",
       "    <tr>\n",
       "      <th>0</th>\n",
       "      <td>2020-01-02</td>\n",
       "      <td>4015485354160</td>\n",
       "      <td>5.695676e+12</td>\n",
       "      <td>paid_fb / cpc</td>\n",
       "      <td>29.99</td>\n",
       "      <td>NaN</td>\n",
       "      <td>paypal</td>\n",
       "      <td>non_subscription</td>\n",
       "    </tr>\n",
       "    <tr>\n",
       "      <th>1</th>\n",
       "      <td>2020-01-02</td>\n",
       "      <td>4015490990256</td>\n",
       "      <td>5.695685e+12</td>\n",
       "      <td>paid_fb / cpc</td>\n",
       "      <td>49.99</td>\n",
       "      <td>NaN</td>\n",
       "      <td>shopify_payments</td>\n",
       "      <td>non_subscription</td>\n",
       "    </tr>\n",
       "    <tr>\n",
       "      <th>2</th>\n",
       "      <td>2020-01-02</td>\n",
       "      <td>4015495643312</td>\n",
       "      <td>5.695681e+12</td>\n",
       "      <td>NaN</td>\n",
       "      <td>89.99</td>\n",
       "      <td>NaN</td>\n",
       "      <td>shopify_payments</td>\n",
       "      <td>non_subscription</td>\n",
       "    </tr>\n",
       "    <tr>\n",
       "      <th>3</th>\n",
       "      <td>2020-01-02</td>\n",
       "      <td>4015519432880</td>\n",
       "      <td>5.695705e+12</td>\n",
       "      <td>NaN</td>\n",
       "      <td>89.99</td>\n",
       "      <td>NaN</td>\n",
       "      <td>shopify_payments</td>\n",
       "      <td>non_subscription</td>\n",
       "    </tr>\n",
       "    <tr>\n",
       "      <th>4</th>\n",
       "      <td>2020-01-02</td>\n",
       "      <td>4015540863152</td>\n",
       "      <td>5.041348e+12</td>\n",
       "      <td>ea - engaged 120 days / email</td>\n",
       "      <td>27.00</td>\n",
       "      <td>CRUNCH10</td>\n",
       "      <td>shopify_payments</td>\n",
       "      <td>non_subscription</td>\n",
       "    </tr>\n",
       "  </tbody>\n",
       "</table>\n",
       "</div>"
      ],
      "text/plain": [
       "   order_date       order_id   customer_id                  source_medium  \\\n",
       "0  2020-01-02  4015485354160  5.695676e+12                  paid_fb / cpc   \n",
       "1  2020-01-02  4015490990256  5.695685e+12                  paid_fb / cpc   \n",
       "2  2020-01-02  4015495643312  5.695681e+12                            NaN   \n",
       "3  2020-01-02  4015519432880  5.695705e+12                            NaN   \n",
       "4  2020-01-02  4015540863152  5.041348e+12  ea - engaged 120 days / email   \n",
       "\n",
       "   net_revenue discount_codes   payment_gateway        order_type  \n",
       "0        29.99            NaN            paypal  non_subscription  \n",
       "1        49.99            NaN  shopify_payments  non_subscription  \n",
       "2        89.99            NaN  shopify_payments  non_subscription  \n",
       "3        89.99            NaN  shopify_payments  non_subscription  \n",
       "4        27.00       CRUNCH10  shopify_payments  non_subscription  "
      ]
     },
     "execution_count": 2,
     "metadata": {},
     "output_type": "execute_result"
    }
   ],
   "source": [
    "df = pd.read_csv(\"../Data/Orders.csv\")\n",
    "df.head()"
   ]
  },
  {
   "cell_type": "code",
   "execution_count": 3,
   "metadata": {},
   "outputs": [
    {
     "data": {
      "text/html": [
       "<div>\n",
       "<style scoped>\n",
       "    .dataframe tbody tr th:only-of-type {\n",
       "        vertical-align: middle;\n",
       "    }\n",
       "\n",
       "    .dataframe tbody tr th {\n",
       "        vertical-align: top;\n",
       "    }\n",
       "\n",
       "    .dataframe thead th {\n",
       "        text-align: right;\n",
       "    }\n",
       "</style>\n",
       "<table border=\"1\" class=\"dataframe\">\n",
       "  <thead>\n",
       "    <tr style=\"text-align: right;\">\n",
       "      <th></th>\n",
       "      <th>order_id</th>\n",
       "      <th>customer_id</th>\n",
       "      <th>net_revenue</th>\n",
       "    </tr>\n",
       "  </thead>\n",
       "  <tbody>\n",
       "    <tr>\n",
       "      <th>count</th>\n",
       "      <td>1.000000e+05</td>\n",
       "      <td>9.998700e+04</td>\n",
       "      <td>100000.000000</td>\n",
       "    </tr>\n",
       "    <tr>\n",
       "      <th>mean</th>\n",
       "      <td>4.350368e+12</td>\n",
       "      <td>5.714754e+12</td>\n",
       "      <td>52.206554</td>\n",
       "    </tr>\n",
       "    <tr>\n",
       "      <th>std</th>\n",
       "      <td>2.377809e+11</td>\n",
       "      <td>7.833936e+11</td>\n",
       "      <td>22.877869</td>\n",
       "    </tr>\n",
       "    <tr>\n",
       "      <th>min</th>\n",
       "      <td>4.015485e+12</td>\n",
       "      <td>2.094173e+12</td>\n",
       "      <td>0.000000</td>\n",
       "    </tr>\n",
       "    <tr>\n",
       "      <th>25%</th>\n",
       "      <td>4.124343e+12</td>\n",
       "      <td>5.733077e+12</td>\n",
       "      <td>44.990000</td>\n",
       "    </tr>\n",
       "    <tr>\n",
       "      <th>50%</th>\n",
       "      <td>4.332531e+12</td>\n",
       "      <td>5.874109e+12</td>\n",
       "      <td>49.990000</td>\n",
       "    </tr>\n",
       "    <tr>\n",
       "      <th>75%</th>\n",
       "      <td>4.549655e+12</td>\n",
       "      <td>6.099094e+12</td>\n",
       "      <td>49.990000</td>\n",
       "    </tr>\n",
       "    <tr>\n",
       "      <th>max</th>\n",
       "      <td>4.789964e+12</td>\n",
       "      <td>6.492835e+12</td>\n",
       "      <td>499.900000</td>\n",
       "    </tr>\n",
       "  </tbody>\n",
       "</table>\n",
       "</div>"
      ],
      "text/plain": [
       "           order_id   customer_id    net_revenue\n",
       "count  1.000000e+05  9.998700e+04  100000.000000\n",
       "mean   4.350368e+12  5.714754e+12      52.206554\n",
       "std    2.377809e+11  7.833936e+11      22.877869\n",
       "min    4.015485e+12  2.094173e+12       0.000000\n",
       "25%    4.124343e+12  5.733077e+12      44.990000\n",
       "50%    4.332531e+12  5.874109e+12      49.990000\n",
       "75%    4.549655e+12  6.099094e+12      49.990000\n",
       "max    4.789964e+12  6.492835e+12     499.900000"
      ]
     },
     "execution_count": 3,
     "metadata": {},
     "output_type": "execute_result"
    }
   ],
   "source": [
    "df.describe()"
   ]
  },
  {
   "cell_type": "code",
   "execution_count": null,
   "metadata": {},
   "outputs": [],
   "source": []
  },
  {
   "cell_type": "code",
   "execution_count": null,
   "metadata": {},
   "outputs": [],
   "source": []
  },
  {
   "cell_type": "code",
   "execution_count": null,
   "metadata": {},
   "outputs": [],
   "source": []
  },
  {
   "cell_type": "code",
   "execution_count": null,
   "metadata": {},
   "outputs": [],
   "source": []
  },
  {
   "cell_type": "code",
   "execution_count": null,
   "metadata": {},
   "outputs": [],
   "source": []
  },
  {
   "cell_type": "code",
   "execution_count": null,
   "metadata": {},
   "outputs": [],
   "source": []
  },
  {
   "cell_type": "code",
   "execution_count": null,
   "metadata": {},
   "outputs": [],
   "source": []
  },
  {
   "cell_type": "code",
   "execution_count": null,
   "metadata": {},
   "outputs": [],
   "source": []
  },
  {
   "cell_type": "code",
   "execution_count": null,
   "metadata": {},
   "outputs": [],
   "source": []
  },
  {
   "cell_type": "code",
   "execution_count": null,
   "metadata": {},
   "outputs": [],
   "source": []
  },
  {
   "cell_type": "code",
   "execution_count": null,
   "metadata": {},
   "outputs": [],
   "source": []
  },
  {
   "cell_type": "code",
   "execution_count": null,
   "metadata": {},
   "outputs": [],
   "source": []
  },
  {
   "cell_type": "code",
   "execution_count": null,
   "metadata": {},
   "outputs": [],
   "source": []
  },
  {
   "cell_type": "code",
   "execution_count": null,
   "metadata": {},
   "outputs": [],
   "source": []
  },
  {
   "cell_type": "code",
   "execution_count": null,
   "metadata": {},
   "outputs": [],
   "source": []
  }
 ],
 "metadata": {
  "kernelspec": {
   "display_name": "Python 3",
   "language": "python",
   "name": "python3"
  },
  "language_info": {
   "codemirror_mode": {
    "name": "ipython",
    "version": 3
   },
   "file_extension": ".py",
   "mimetype": "text/x-python",
   "name": "python",
   "nbconvert_exporter": "python",
   "pygments_lexer": "ipython3",
   "version": "3.7.6"
  }
 },
 "nbformat": 4,
 "nbformat_minor": 4
}
